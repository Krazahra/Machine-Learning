{
  "nbformat": 4,
  "nbformat_minor": 0,
  "metadata": {
    "colab": {
      "provenance": [],
      "gpuType": "T4",
      "authorship_tag": "ABX9TyMEdeC8GlKq/rTbfUElMchn",
      "include_colab_link": true
    },
    "kernelspec": {
      "name": "python3",
      "display_name": "Python 3"
    },
    "language_info": {
      "name": "python"
    },
    "accelerator": "GPU"
  },
  "cells": [
    {
      "cell_type": "markdown",
      "metadata": {
        "id": "view-in-github",
        "colab_type": "text"
      },
      "source": [
        "<a href=\"https://colab.research.google.com/github/Krazahra/Machine-Learning/blob/main/Tugas_12_denseNet.ipynb\" target=\"_parent\"><img src=\"https://colab.research.google.com/assets/colab-badge.svg\" alt=\"Open In Colab\"/></a>"
      ]
    },
    {
      "cell_type": "markdown",
      "source": [
        "# Identitas\n",
        "Nama: Kinanti Rahayu Az-Zahra\n",
        "\n",
        "Kelas: TK-45-04\n",
        "\n",
        "NIM: 1103210052\n",
        "\n",
        "Dataset: https://www.tensorflow.org/datasets/catalog/mnist\n",
        "\n",
        "Dokumentasi GPT: https://chatgpt.com/share/c4fa2152-1064-4aaa-b3bc-86287a20b1b2"
      ],
      "metadata": {
        "id": "PYfav6fjShMi"
      }
    },
    {
      "cell_type": "code",
      "execution_count": 15,
      "metadata": {
        "id": "qn-a67cjSgQ9"
      },
      "outputs": [],
      "source": [
        "import tensorflow as tf\n",
        "from tensorflow.keras.datasets import mnist\n",
        "from tensorflow.keras.models import Sequential\n",
        "from tensorflow.keras.layers import Dense, Flatten, Conv2D\n",
        "from tensorflow.keras.callbacks import EarlyStopping\n",
        "from tensorflow.keras.applications import DenseNet121\n",
        "from tensorflow.keras.optimizers import Adam\n",
        "import numpy as np"
      ]
    },
    {
      "cell_type": "code",
      "source": [
        "# Load MNIST dataset\n",
        "(x_train, y_train), (x_test, y_test) = mnist.load_data()"
      ],
      "metadata": {
        "id": "PU4WsxmWSwq_"
      },
      "execution_count": 16,
      "outputs": []
    },
    {
      "cell_type": "code",
      "source": [
        "# Normalize pixel values to be between 0 and 1\n",
        "x_train, x_test = x_train / 255.0, x_test / 255.0\n",
        "\n",
        "# Reshape and expand dimensions for single channel\n",
        "x_train = np.expand_dims(x_train, axis=-1)\n",
        "x_test = np.expand_dims(x_test, axis=-1)"
      ],
      "metadata": {
        "id": "8PfaO4h2S1vu"
      },
      "execution_count": 17,
      "outputs": []
    },
    {
      "cell_type": "code",
      "source": [
        "# Upsample images to meet DenseNet minimum size requirement (32x32)\n",
        "x_train = tf.image.resize(x_train, (32, 32))\n",
        "x_test = tf.image.resize(x_test, (32, 32))"
      ],
      "metadata": {
        "id": "eXtizySDTCwx"
      },
      "execution_count": 19,
      "outputs": []
    },
    {
      "cell_type": "code",
      "source": [
        "# Compile the model\n",
        "model.compile(optimizer=Adam(learning_rate=0.001),\n",
        "              loss='sparse_categorical_crossentropy',\n",
        "              metrics=['accuracy'])"
      ],
      "metadata": {
        "id": "CcTHu2fXTGIX"
      },
      "execution_count": 13,
      "outputs": []
    },
    {
      "cell_type": "code",
      "source": [
        "# Define DenseNet model\n",
        "base_model = DenseNet121(include_top=False, input_shape=(32, 32, 1), weights=None)\n",
        "model = Sequential([\n",
        "    base_model,\n",
        "    Flatten(),\n",
        "    Dense(10, activation='softmax')\n",
        "])"
      ],
      "metadata": {
        "id": "3BDGOpFnTdsg"
      },
      "execution_count": 20,
      "outputs": []
    },
    {
      "cell_type": "code",
      "source": [
        "# Compile the model\n",
        "model.compile(optimizer=Adam(learning_rate=0.001),\n",
        "              loss='sparse_categorical_crossentropy',\n",
        "              metrics=['accuracy'])\n"
      ],
      "metadata": {
        "id": "ZXDtoSMeUYn3"
      },
      "execution_count": 21,
      "outputs": []
    },
    {
      "cell_type": "code",
      "source": [
        "# Define early stopping callback\n",
        "early_stop = EarlyStopping(monitor='val_loss', patience=15, restore_best_weights=True)\n",
        "\n",
        "# Train the model with early stopping\n",
        "history = model.fit(x_train, y_train, epochs=20, batch_size=128,\n",
        "                    validation_data=(x_test, y_test), callbacks=[early_stop])"
      ],
      "metadata": {
        "colab": {
          "base_uri": "https://localhost:8080/"
        },
        "id": "ngtDw4YHUaxM",
        "outputId": "c160c8c4-1dbf-490b-be9c-879a83c121b5"
      },
      "execution_count": 22,
      "outputs": [
        {
          "output_type": "stream",
          "name": "stdout",
          "text": [
            "Epoch 1/20\n",
            "469/469 [==============================] - 120s 110ms/step - loss: 0.1174 - accuracy: 0.9625 - val_loss: 4.2220 - val_accuracy: 0.3566\n",
            "Epoch 2/20\n",
            "469/469 [==============================] - 41s 88ms/step - loss: 0.0453 - accuracy: 0.9862 - val_loss: 0.0434 - val_accuracy: 0.9863\n",
            "Epoch 3/20\n",
            "469/469 [==============================] - 41s 87ms/step - loss: 0.0337 - accuracy: 0.9892 - val_loss: 0.1753 - val_accuracy: 0.9522\n",
            "Epoch 4/20\n",
            "469/469 [==============================] - 40s 86ms/step - loss: 0.0287 - accuracy: 0.9910 - val_loss: 0.0389 - val_accuracy: 0.9884\n",
            "Epoch 5/20\n",
            "469/469 [==============================] - 40s 85ms/step - loss: 0.0245 - accuracy: 0.9923 - val_loss: 0.0648 - val_accuracy: 0.9816\n",
            "Epoch 6/20\n",
            "469/469 [==============================] - 39s 84ms/step - loss: 0.0221 - accuracy: 0.9932 - val_loss: 0.0428 - val_accuracy: 0.9862\n",
            "Epoch 7/20\n",
            "469/469 [==============================] - 40s 84ms/step - loss: 0.0183 - accuracy: 0.9942 - val_loss: 0.0291 - val_accuracy: 0.9910\n",
            "Epoch 8/20\n",
            "469/469 [==============================] - 40s 86ms/step - loss: 0.0199 - accuracy: 0.9937 - val_loss: 0.0330 - val_accuracy: 0.9904\n",
            "Epoch 9/20\n",
            "469/469 [==============================] - 42s 90ms/step - loss: 0.0159 - accuracy: 0.9951 - val_loss: 0.0734 - val_accuracy: 0.9794\n",
            "Epoch 10/20\n",
            "469/469 [==============================] - 42s 89ms/step - loss: 0.0192 - accuracy: 0.9938 - val_loss: 0.0409 - val_accuracy: 0.9870\n",
            "Epoch 11/20\n",
            "469/469 [==============================] - 43s 91ms/step - loss: 0.0181 - accuracy: 0.9943 - val_loss: 0.2380 - val_accuracy: 0.9432\n",
            "Epoch 12/20\n",
            "469/469 [==============================] - 42s 89ms/step - loss: 0.0147 - accuracy: 0.9955 - val_loss: 0.0366 - val_accuracy: 0.9909\n",
            "Epoch 13/20\n",
            "469/469 [==============================] - 42s 90ms/step - loss: 0.0141 - accuracy: 0.9952 - val_loss: 0.0538 - val_accuracy: 0.9833\n",
            "Epoch 14/20\n",
            "469/469 [==============================] - 40s 86ms/step - loss: 0.0117 - accuracy: 0.9961 - val_loss: 0.0578 - val_accuracy: 0.9831\n",
            "Epoch 15/20\n",
            "469/469 [==============================] - 40s 85ms/step - loss: 0.0107 - accuracy: 0.9970 - val_loss: 0.1619 - val_accuracy: 0.9730\n",
            "Epoch 16/20\n",
            "469/469 [==============================] - 40s 85ms/step - loss: 0.0099 - accuracy: 0.9970 - val_loss: 0.0856 - val_accuracy: 0.9754\n",
            "Epoch 17/20\n",
            "469/469 [==============================] - 40s 85ms/step - loss: 0.0166 - accuracy: 0.9943 - val_loss: 0.0322 - val_accuracy: 0.9918\n",
            "Epoch 18/20\n",
            "469/469 [==============================] - 40s 85ms/step - loss: 0.0071 - accuracy: 0.9975 - val_loss: 0.0473 - val_accuracy: 0.9879\n",
            "Epoch 19/20\n",
            "469/469 [==============================] - 40s 85ms/step - loss: 0.0080 - accuracy: 0.9973 - val_loss: 0.0772 - val_accuracy: 0.9871\n",
            "Epoch 20/20\n",
            "469/469 [==============================] - 42s 89ms/step - loss: 0.0108 - accuracy: 0.9968 - val_loss: 0.0276 - val_accuracy: 0.9922\n"
          ]
        }
      ]
    },
    {
      "cell_type": "code",
      "source": [
        "# Evaluate the model\n",
        "test_loss, test_acc = model.evaluate(x_test, y_test)\n",
        "print(f\"Test accuracy: {test_acc:.4f}\")"
      ],
      "metadata": {
        "colab": {
          "base_uri": "https://localhost:8080/"
        },
        "id": "mCMbE9C4YId8",
        "outputId": "22d062cb-6c0c-4789-948b-7e8272fd7ff8"
      },
      "execution_count": 23,
      "outputs": [
        {
          "output_type": "stream",
          "name": "stdout",
          "text": [
            "313/313 [==============================] - 7s 15ms/step - loss: 0.0276 - accuracy: 0.9922\n",
            "Test accuracy: 0.9922\n"
          ]
        }
      ]
    }
  ]
}