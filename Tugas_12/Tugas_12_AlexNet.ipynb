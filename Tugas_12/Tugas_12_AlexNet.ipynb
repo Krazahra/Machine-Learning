{
  "nbformat": 4,
  "nbformat_minor": 0,
  "metadata": {
    "colab": {
      "provenance": [],
      "gpuType": "T4",
      "authorship_tag": "ABX9TyP012yfp59Ts/vEazsgt7u2",
      "include_colab_link": true
    },
    "kernelspec": {
      "name": "python3",
      "display_name": "Python 3"
    },
    "language_info": {
      "name": "python"
    },
    "accelerator": "GPU"
  },
  "cells": [
    {
      "cell_type": "markdown",
      "metadata": {
        "id": "view-in-github",
        "colab_type": "text"
      },
      "source": [
        "<a href=\"https://colab.research.google.com/github/Krazahra/Machine-Learning/blob/main/Tugas_12_AlexNet.ipynb\" target=\"_parent\"><img src=\"https://colab.research.google.com/assets/colab-badge.svg\" alt=\"Open In Colab\"/></a>"
      ]
    },
    {
      "cell_type": "markdown",
      "source": [
        "# Identitas\n",
        "Nama: Kinanti Rahayu Az-Zahra\n",
        "\n",
        "Kelas: TK-45-04\n",
        "\n",
        "NIM: 1103210052\n",
        "\n",
        "Dataset: https://www.tensorflow.org/datasets/catalog/mnist\n",
        "\n",
        "Dokumentasi GPT: https://chatgpt.com/share/4980e1f0-6366-497c-a020-a85d9f7b411d"
      ],
      "metadata": {
        "id": "iMa1uYh08NBq"
      }
    },
    {
      "cell_type": "code",
      "execution_count": 1,
      "metadata": {
        "id": "sVyZgP4P8Mcd"
      },
      "outputs": [],
      "source": [
        "import tensorflow as tf\n",
        "from tensorflow.keras.models import Sequential\n",
        "from tensorflow.keras.layers import Conv2D, MaxPooling2D, Flatten, Dense, Dropout\n",
        "from tensorflow.keras.callbacks import EarlyStopping\n",
        "from tensorflow.keras.datasets import mnist\n",
        "from tensorflow.keras.utils import to_categorical"
      ]
    },
    {
      "cell_type": "code",
      "source": [
        "# Load MNIST dataset\n",
        "(x_train, y_train), (x_test, y_test) = mnist.load_data()"
      ],
      "metadata": {
        "colab": {
          "base_uri": "https://localhost:8080/"
        },
        "id": "u8f0oNLo9Qrx",
        "outputId": "cdf6c5e5-a7a4-4909-b2ab-6b09ca78a748"
      },
      "execution_count": 2,
      "outputs": [
        {
          "output_type": "stream",
          "name": "stdout",
          "text": [
            "Downloading data from https://storage.googleapis.com/tensorflow/tf-keras-datasets/mnist.npz\n",
            "11490434/11490434 [==============================] - 0s 0us/step\n"
          ]
        }
      ]
    },
    {
      "cell_type": "code",
      "source": [
        "# Normalize pixel values to be between 0 and 1\n",
        "x_train, x_test = x_train / 255.0, x_test / 255.0\n",
        "\n",
        "# Reshape data to 4D tensor (batch_size, height, width, channels)\n",
        "x_train = x_train.reshape((-1, 28, 28, 1))\n",
        "x_test = x_test.reshape((-1, 28, 28, 1))\n",
        "\n",
        "# Convert labels to categorical one-hot encoding\n",
        "y_train = to_categorical(y_train, num_classes=10)\n",
        "y_test = to_categorical(y_test, num_classes=10)"
      ],
      "metadata": {
        "id": "vZEY20Wy9TlW"
      },
      "execution_count": 3,
      "outputs": []
    },
    {
      "cell_type": "code",
      "source": [
        "# Define a simpler CNN model suitable for MNIST\n",
        "model = Sequential([\n",
        "    Conv2D(32, kernel_size=(3, 3), activation='relu', input_shape=(28, 28, 1)),\n",
        "    MaxPooling2D(pool_size=(2, 2)),\n",
        "    Conv2D(64, kernel_size=(3, 3), activation='relu'),\n",
        "    MaxPooling2D(pool_size=(2, 2)),\n",
        "    Flatten(),\n",
        "    Dense(128, activation='relu'),\n",
        "    Dropout(0.5),\n",
        "    Dense(10, activation='softmax')\n",
        "])\n",
        "# Compile the model\n",
        "model.compile(optimizer='adam',\n",
        "              loss='categorical_crossentropy',\n",
        "              metrics=['accuracy'])"
      ],
      "metadata": {
        "id": "1u9dMsCb9V8y"
      },
      "execution_count": 7,
      "outputs": []
    },
    {
      "cell_type": "code",
      "source": [
        "# Define early stopping callback\n",
        "early_stop = EarlyStopping(monitor='val_loss', patience=10, restore_best_weights=True)\n",
        "\n",
        "# Train the model with early stopping\n",
        "history = model.fit(x_train, y_train, epochs=50, batch_size=128,\n",
        "                    validation_data=(x_test, y_test), callbacks=[early_stop])"
      ],
      "metadata": {
        "colab": {
          "base_uri": "https://localhost:8080/"
        },
        "id": "xMDZryz195oQ",
        "outputId": "365d9f3a-5b93-4186-ee20-710071211933"
      },
      "execution_count": 8,
      "outputs": [
        {
          "output_type": "stream",
          "name": "stdout",
          "text": [
            "Epoch 1/50\n",
            "469/469 [==============================] - 43s 89ms/step - loss: 0.3015 - accuracy: 0.9081 - val_loss: 0.0624 - val_accuracy: 0.9812\n",
            "Epoch 2/50\n",
            "469/469 [==============================] - 40s 85ms/step - loss: 0.0966 - accuracy: 0.9712 - val_loss: 0.0456 - val_accuracy: 0.9837\n",
            "Epoch 3/50\n",
            "469/469 [==============================] - 42s 89ms/step - loss: 0.0714 - accuracy: 0.9790 - val_loss: 0.0323 - val_accuracy: 0.9895\n",
            "Epoch 4/50\n",
            "469/469 [==============================] - 41s 88ms/step - loss: 0.0585 - accuracy: 0.9824 - val_loss: 0.0333 - val_accuracy: 0.9885\n",
            "Epoch 5/50\n",
            "469/469 [==============================] - 45s 95ms/step - loss: 0.0488 - accuracy: 0.9850 - val_loss: 0.0240 - val_accuracy: 0.9913\n",
            "Epoch 6/50\n",
            "469/469 [==============================] - 47s 101ms/step - loss: 0.0409 - accuracy: 0.9871 - val_loss: 0.0280 - val_accuracy: 0.9898\n",
            "Epoch 7/50\n",
            "469/469 [==============================] - 47s 100ms/step - loss: 0.0384 - accuracy: 0.9885 - val_loss: 0.0280 - val_accuracy: 0.9907\n",
            "Epoch 8/50\n",
            "469/469 [==============================] - 48s 102ms/step - loss: 0.0339 - accuracy: 0.9894 - val_loss: 0.0222 - val_accuracy: 0.9928\n",
            "Epoch 9/50\n",
            "469/469 [==============================] - 45s 96ms/step - loss: 0.0298 - accuracy: 0.9904 - val_loss: 0.0245 - val_accuracy: 0.9916\n",
            "Epoch 10/50\n",
            "469/469 [==============================] - 45s 96ms/step - loss: 0.0273 - accuracy: 0.9913 - val_loss: 0.0253 - val_accuracy: 0.9920\n",
            "Epoch 11/50\n",
            "469/469 [==============================] - 47s 100ms/step - loss: 0.0254 - accuracy: 0.9920 - val_loss: 0.0245 - val_accuracy: 0.9925\n",
            "Epoch 12/50\n",
            "469/469 [==============================] - 44s 93ms/step - loss: 0.0219 - accuracy: 0.9927 - val_loss: 0.0225 - val_accuracy: 0.9929\n",
            "Epoch 13/50\n",
            "469/469 [==============================] - 42s 90ms/step - loss: 0.0211 - accuracy: 0.9933 - val_loss: 0.0228 - val_accuracy: 0.9930\n",
            "Epoch 14/50\n",
            "469/469 [==============================] - 42s 90ms/step - loss: 0.0200 - accuracy: 0.9933 - val_loss: 0.0246 - val_accuracy: 0.9923\n",
            "Epoch 15/50\n",
            "469/469 [==============================] - 42s 90ms/step - loss: 0.0172 - accuracy: 0.9945 - val_loss: 0.0242 - val_accuracy: 0.9933\n",
            "Epoch 16/50\n",
            "469/469 [==============================] - 42s 90ms/step - loss: 0.0170 - accuracy: 0.9941 - val_loss: 0.0265 - val_accuracy: 0.9928\n",
            "Epoch 17/50\n",
            "469/469 [==============================] - 40s 85ms/step - loss: 0.0143 - accuracy: 0.9953 - val_loss: 0.0246 - val_accuracy: 0.9930\n",
            "Epoch 18/50\n",
            "469/469 [==============================] - 40s 85ms/step - loss: 0.0156 - accuracy: 0.9946 - val_loss: 0.0252 - val_accuracy: 0.9934\n"
          ]
        }
      ]
    },
    {
      "cell_type": "code",
      "source": [
        "# Evaluate the model\n",
        "test_loss, test_acc = model.evaluate(x_test, y_test)\n",
        "print(f\"Test accuracy: {test_acc:.4f}\")"
      ],
      "metadata": {
        "colab": {
          "base_uri": "https://localhost:8080/"
        },
        "id": "ITUKZXAw-BuH",
        "outputId": "71f48339-a004-4c4e-9e00-bc7d9bd125a6"
      },
      "execution_count": 9,
      "outputs": [
        {
          "output_type": "stream",
          "name": "stdout",
          "text": [
            "313/313 [==============================] - 2s 7ms/step - loss: 0.0222 - accuracy: 0.9928\n",
            "Test accuracy: 0.9928\n"
          ]
        }
      ]
    }
  ]
}