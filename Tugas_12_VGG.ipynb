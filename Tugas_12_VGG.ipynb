{
  "nbformat": 4,
  "nbformat_minor": 0,
  "metadata": {
    "colab": {
      "provenance": [],
      "gpuType": "T4",
      "authorship_tag": "ABX9TyMnfw7GzMXkm27DYpB3hgpH",
      "include_colab_link": true
    },
    "kernelspec": {
      "name": "python3",
      "display_name": "Python 3"
    },
    "language_info": {
      "name": "python"
    },
    "accelerator": "GPU"
  },
  "cells": [
    {
      "cell_type": "markdown",
      "metadata": {
        "id": "view-in-github",
        "colab_type": "text"
      },
      "source": [
        "<a href=\"https://colab.research.google.com/github/Krazahra/Machine-Learning/blob/main/Tugas_12_VGG.ipynb\" target=\"_parent\"><img src=\"https://colab.research.google.com/assets/colab-badge.svg\" alt=\"Open In Colab\"/></a>"
      ]
    },
    {
      "cell_type": "markdown",
      "source": [
        "Nama: Kinanti Rahayu Az-Zahra\n",
        "\n",
        "Kelas: TK-45-04\n",
        "\n",
        "NIM: 1103210052\n",
        "\n",
        "Dataset: https://www.tensorflow.org/datasets/catalog/mnist\n",
        "\n",
        "Dokumentasi GPT: https://chatgpt.com/share/aff1432b-080c-4ba1-b3d7-c51512f83491"
      ],
      "metadata": {
        "id": "8cwTSiXV7l7_"
      }
    },
    {
      "cell_type": "code",
      "execution_count": 1,
      "metadata": {
        "id": "0IXaAIut5vxq"
      },
      "outputs": [],
      "source": [
        "import tensorflow as tf\n",
        "from tensorflow.keras.models import Sequential\n",
        "from tensorflow.keras.layers import Conv2D, MaxPooling2D, Flatten, Dense, Dropout\n",
        "from tensorflow.keras.callbacks import EarlyStopping\n",
        "from tensorflow.keras.datasets import mnist\n",
        "from tensorflow.keras.utils import to_categorical"
      ]
    },
    {
      "cell_type": "code",
      "source": [
        "# Load MNIST dataset\n",
        "(x_train, y_train), (x_test, y_test) = mnist.load_data()"
      ],
      "metadata": {
        "colab": {
          "base_uri": "https://localhost:8080/"
        },
        "id": "jeNy0nEV510f",
        "outputId": "f25c14dc-966d-4c0a-98d6-7671803f0f4f"
      },
      "execution_count": 2,
      "outputs": [
        {
          "output_type": "stream",
          "name": "stdout",
          "text": [
            "Downloading data from https://storage.googleapis.com/tensorflow/tf-keras-datasets/mnist.npz\n",
            "11490434/11490434 [==============================] - 2s 0us/step\n"
          ]
        }
      ]
    },
    {
      "cell_type": "code",
      "source": [
        "# Normalize pixel values to be between 0 and 1\n",
        "x_train, x_test = x_train / 255.0, x_test / 255.0\n",
        "\n",
        "# Reshape data to 4D for VGG model (add channel dimension)\n",
        "x_train = x_train.reshape(-1, 28, 28, 1)\n",
        "x_test = x_test.reshape(-1, 28, 28, 1)\n",
        "\n",
        "# Convert labels to categorical one-hot encoding\n",
        "y_train = to_categorical(y_train, num_classes=10)\n",
        "y_test = to_categorical(y_test, num_classes=10)"
      ],
      "metadata": {
        "id": "hYJdEvVa56K2"
      },
      "execution_count": 3,
      "outputs": []
    },
    {
      "cell_type": "code",
      "source": [
        "# Define VGG model\n",
        "model = Sequential([\n",
        "    Conv2D(64, (3, 3), activation='relu', padding='same', input_shape=(28, 28, 1)),\n",
        "    Conv2D(64, (3, 3), activation='relu', padding='same'),\n",
        "    MaxPooling2D(pool_size=(2, 2), strides=(2, 2)),\n",
        "    Conv2D(128, (3, 3), activation='relu', padding='same'),\n",
        "    Conv2D(128, (3, 3), activation='relu', padding='same'),\n",
        "    MaxPooling2D(pool_size=(2, 2), strides=(2, 2)),\n",
        "    Flatten(),\n",
        "    Dense(256, activation='relu'),\n",
        "    Dropout(0.5),\n",
        "    Dense(10, activation='softmax')\n",
        "])"
      ],
      "metadata": {
        "id": "JKQkJhiH6CBt"
      },
      "execution_count": 4,
      "outputs": []
    },
    {
      "cell_type": "code",
      "source": [
        "# Compile the model\n",
        "model.compile(optimizer='adam',\n",
        "              loss='categorical_crossentropy',\n",
        "              metrics=['accuracy'])"
      ],
      "metadata": {
        "id": "o4Juw7YN6E--"
      },
      "execution_count": 5,
      "outputs": []
    },
    {
      "cell_type": "code",
      "source": [
        "# Define early stopping callback\n",
        "early_stop = EarlyStopping(monitor='val_loss', patience=15, restore_best_weights=True)\n",
        "\n",
        "# Train the model with early stopping\n",
        "history = model.fit(x_train, y_train, epochs=20, batch_size=128,\n",
        "                    validation_data=(x_test, y_test), callbacks=[early_stop])"
      ],
      "metadata": {
        "colab": {
          "base_uri": "https://localhost:8080/"
        },
        "id": "6RBr2pv06Io3",
        "outputId": "8a04d5c5-ca4d-4cbb-d595-72ef12039847"
      },
      "execution_count": 6,
      "outputs": [
        {
          "output_type": "stream",
          "name": "stdout",
          "text": [
            "Epoch 1/20\n",
            "469/469 [==============================] - 16s 19ms/step - loss: 0.1687 - accuracy: 0.9476 - val_loss: 0.0388 - val_accuracy: 0.9877\n",
            "Epoch 2/20\n",
            "469/469 [==============================] - 8s 17ms/step - loss: 0.0522 - accuracy: 0.9843 - val_loss: 0.0303 - val_accuracy: 0.9899\n",
            "Epoch 3/20\n",
            "469/469 [==============================] - 8s 17ms/step - loss: 0.0362 - accuracy: 0.9890 - val_loss: 0.0183 - val_accuracy: 0.9931\n",
            "Epoch 4/20\n",
            "469/469 [==============================] - 8s 17ms/step - loss: 0.0296 - accuracy: 0.9905 - val_loss: 0.0227 - val_accuracy: 0.9926\n",
            "Epoch 5/20\n",
            "469/469 [==============================] - 8s 17ms/step - loss: 0.0247 - accuracy: 0.9926 - val_loss: 0.0189 - val_accuracy: 0.9932\n",
            "Epoch 6/20\n",
            "469/469 [==============================] - 8s 17ms/step - loss: 0.0197 - accuracy: 0.9937 - val_loss: 0.0180 - val_accuracy: 0.9943\n",
            "Epoch 7/20\n",
            "469/469 [==============================] - 8s 17ms/step - loss: 0.0187 - accuracy: 0.9942 - val_loss: 0.0169 - val_accuracy: 0.9935\n",
            "Epoch 8/20\n",
            "469/469 [==============================] - 8s 17ms/step - loss: 0.0144 - accuracy: 0.9954 - val_loss: 0.0189 - val_accuracy: 0.9935\n",
            "Epoch 9/20\n",
            "469/469 [==============================] - 8s 17ms/step - loss: 0.0135 - accuracy: 0.9955 - val_loss: 0.0301 - val_accuracy: 0.9925\n",
            "Epoch 10/20\n",
            "469/469 [==============================] - 8s 17ms/step - loss: 0.0135 - accuracy: 0.9958 - val_loss: 0.0220 - val_accuracy: 0.9940\n",
            "Epoch 11/20\n",
            "469/469 [==============================] - 8s 17ms/step - loss: 0.0111 - accuracy: 0.9963 - val_loss: 0.0240 - val_accuracy: 0.9929\n",
            "Epoch 12/20\n",
            "469/469 [==============================] - 8s 17ms/step - loss: 0.0095 - accuracy: 0.9969 - val_loss: 0.0241 - val_accuracy: 0.9932\n",
            "Epoch 13/20\n",
            "469/469 [==============================] - 8s 18ms/step - loss: 0.0095 - accuracy: 0.9969 - val_loss: 0.0223 - val_accuracy: 0.9928\n",
            "Epoch 14/20\n",
            "469/469 [==============================] - 8s 18ms/step - loss: 0.0079 - accuracy: 0.9972 - val_loss: 0.0210 - val_accuracy: 0.9933\n",
            "Epoch 15/20\n",
            "469/469 [==============================] - 8s 18ms/step - loss: 0.0080 - accuracy: 0.9973 - val_loss: 0.0183 - val_accuracy: 0.9954\n",
            "Epoch 16/20\n",
            "469/469 [==============================] - 8s 18ms/step - loss: 0.0071 - accuracy: 0.9978 - val_loss: 0.0234 - val_accuracy: 0.9943\n",
            "Epoch 17/20\n",
            "469/469 [==============================] - 8s 17ms/step - loss: 0.0078 - accuracy: 0.9975 - val_loss: 0.0199 - val_accuracy: 0.9945\n",
            "Epoch 18/20\n",
            "469/469 [==============================] - 8s 17ms/step - loss: 0.0063 - accuracy: 0.9979 - val_loss: 0.0186 - val_accuracy: 0.9948\n",
            "Epoch 19/20\n",
            "469/469 [==============================] - 8s 18ms/step - loss: 0.0057 - accuracy: 0.9981 - val_loss: 0.0210 - val_accuracy: 0.9943\n",
            "Epoch 20/20\n",
            "469/469 [==============================] - 8s 17ms/step - loss: 0.0055 - accuracy: 0.9981 - val_loss: 0.0194 - val_accuracy: 0.9956\n"
          ]
        }
      ]
    },
    {
      "cell_type": "code",
      "source": [
        "# Evaluate the model\n",
        "test_loss, test_acc = model.evaluate(x_test, y_test)\n",
        "print(f\"Test accuracy: {test_acc:.4f}\")"
      ],
      "metadata": {
        "colab": {
          "base_uri": "https://localhost:8080/"
        },
        "id": "XnSwpLH36MJ1",
        "outputId": "156853d5-f1e9-4765-afb8-1d13cb580b82"
      },
      "execution_count": 7,
      "outputs": [
        {
          "output_type": "stream",
          "name": "stdout",
          "text": [
            "313/313 [==============================] - 1s 3ms/step - loss: 0.0194 - accuracy: 0.9956\n",
            "Test accuracy: 0.9956\n"
          ]
        }
      ]
    }
  ]
}