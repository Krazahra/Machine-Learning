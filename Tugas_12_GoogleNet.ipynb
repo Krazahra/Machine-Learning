{
  "nbformat": 4,
  "nbformat_minor": 0,
  "metadata": {
    "colab": {
      "provenance": [],
      "gpuType": "T4",
      "authorship_tag": "ABX9TyNNfkOjLvLpy3ZPqkj5BIvU",
      "include_colab_link": true
    },
    "kernelspec": {
      "name": "python3",
      "display_name": "Python 3"
    },
    "language_info": {
      "name": "python"
    },
    "accelerator": "GPU"
  },
  "cells": [
    {
      "cell_type": "markdown",
      "metadata": {
        "id": "view-in-github",
        "colab_type": "text"
      },
      "source": [
        "<a href=\"https://colab.research.google.com/github/Krazahra/Machine-Learning/blob/main/Tugas_12_GoogleNet.ipynb\" target=\"_parent\"><img src=\"https://colab.research.google.com/assets/colab-badge.svg\" alt=\"Open In Colab\"/></a>"
      ]
    },
    {
      "cell_type": "markdown",
      "source": [
        "# Identitas\n",
        "Nama: Kinanti Rahayu Az-Zahra\n",
        "\n",
        "Kelas: TK-45-04\n",
        "\n",
        "NIM: 1103210052\n",
        "\n",
        "Dataset: https://www.tensorflow.org/datasets/catalog/mnist\n",
        "\n",
        "Dokumentasi GPT: https://chatgpt.com/share/4980e1f0-6366-497c-a020-a85d9f7b411d"
      ],
      "metadata": {
        "id": "E3I0krJqH-XQ"
      }
    },
    {
      "cell_type": "code",
      "execution_count": 1,
      "metadata": {
        "id": "mEQP6VXMH3Rt"
      },
      "outputs": [],
      "source": [
        "import tensorflow as tf\n",
        "from tensorflow.keras import layers, models\n",
        "from tensorflow.keras.callbacks import EarlyStopping\n",
        "from tensorflow.keras.datasets import mnist\n",
        "from tensorflow.keras.utils import to_categorical"
      ]
    },
    {
      "cell_type": "code",
      "source": [
        "# Load MNIST dataset\n",
        "(x_train, y_train), (x_test, y_test) = mnist.load_data()"
      ],
      "metadata": {
        "colab": {
          "base_uri": "https://localhost:8080/"
        },
        "id": "rQvnzMPTICH_",
        "outputId": "71352ad9-20cb-43b6-def0-1b4c6ee877fb"
      },
      "execution_count": 2,
      "outputs": [
        {
          "output_type": "stream",
          "name": "stdout",
          "text": [
            "Downloading data from https://storage.googleapis.com/tensorflow/tf-keras-datasets/mnist.npz\n",
            "11490434/11490434 [==============================] - 0s 0us/step\n"
          ]
        }
      ]
    },
    {
      "cell_type": "code",
      "source": [
        "# Preprocess the data\n",
        "x_train = x_train.astype('float32') / 255.0\n",
        "x_test = x_test.astype('float32') / 255.0"
      ],
      "metadata": {
        "id": "RT13gyCdIF5N"
      },
      "execution_count": 3,
      "outputs": []
    },
    {
      "cell_type": "code",
      "source": [
        "# Convert labels to categorical one-hot encoding\n",
        "y_train = to_categorical(y_train, 10)\n",
        "y_test = to_categorical(y_test, 10)"
      ],
      "metadata": {
        "id": "bR33WjXeIHpy"
      },
      "execution_count": 4,
      "outputs": []
    },
    {
      "cell_type": "code",
      "source": [
        "# Define GoogleNet (Inception) model\n",
        "def create_googlenet_model(input_shape):\n",
        "    input = layers.Input(shape=input_shape)\n",
        "\n",
        "    conv1 = layers.Conv2D(64, (7, 7), padding='same', activation='relu')(input)\n",
        "    pool1 = layers.MaxPooling2D(pool_size=(2, 2), strides=(2, 2))(conv1)\n",
        "\n",
        "    inception2a = inception_module(pool1, 64, 96, 128, 16, 32, 32)\n",
        "    inception2b = inception_module(inception2a, 128, 128, 192, 32, 96, 64)\n",
        "    pool2 = layers.MaxPooling2D(pool_size=(2, 2), strides=(2, 2))(inception2b)\n",
        "\n",
        "    inception3a = inception_module(pool2, 192, 96, 208, 16, 48, 64)\n",
        "    inception3b = inception_module(inception3a, 160, 112, 224, 24, 64, 64)\n",
        "\n",
        "    flatten = layers.Flatten()(inception3b)\n",
        "    dense1 = layers.Dense(128, activation='relu')(flatten)\n",
        "    output = layers.Dense(10, activation='softmax')(dense1)\n",
        "\n",
        "    model = models.Model(inputs=input, outputs=output)\n",
        "    return model\n",
        "\n",
        "def inception_module(prev_layer, conv1_out, conv3_reduce_out, conv3_out, conv5_reduce_out, conv5_out, pool_proj_out):\n",
        "    conv1 = layers.Conv2D(conv1_out, (1, 1), padding='same', activation='relu')(prev_layer)\n",
        "\n",
        "    conv3_reduce = layers.Conv2D(conv3_reduce_out, (1, 1), padding='same', activation='relu')(prev_layer)\n",
        "    conv3 = layers.Conv2D(conv3_out, (3, 3), padding='same', activation='relu')(conv3_reduce)\n",
        "\n",
        "    conv5_reduce = layers.Conv2D(conv5_reduce_out, (1, 1), padding='same', activation='relu')(prev_layer)\n",
        "    conv5 = layers.Conv2D(conv5_out, (5, 5), padding='same', activation='relu')(conv5_reduce)\n",
        "\n",
        "    pool_proj = layers.MaxPooling2D((3, 3), strides=(1, 1), padding='same')(prev_layer)\n",
        "    pool_proj = layers.Conv2D(pool_proj_out, (1, 1), padding='same', activation='relu')(pool_proj)\n",
        "\n",
        "    output = layers.concatenate([conv1, conv3, conv5, pool_proj], axis=-1)\n",
        "    return output\n"
      ],
      "metadata": {
        "id": "8J7YejPtIJCY"
      },
      "execution_count": 5,
      "outputs": []
    },
    {
      "cell_type": "code",
      "source": [
        "# Create GoogleNet model\n",
        "input_shape = (28, 28, 1)\n",
        "model = create_googlenet_model(input_shape)\n",
        "model.summary()\n",
        "\n",
        "# Compile the model\n",
        "model.compile(optimizer='adam', loss='categorical_crossentropy', metrics=['accuracy'])\n"
      ],
      "metadata": {
        "colab": {
          "base_uri": "https://localhost:8080/"
        },
        "id": "HDMNfLkuIK7g",
        "outputId": "d9264366-f6cf-4e9e-c736-c1cccb8ff06e"
      },
      "execution_count": 6,
      "outputs": [
        {
          "output_type": "stream",
          "name": "stdout",
          "text": [
            "Model: \"model\"\n",
            "__________________________________________________________________________________________________\n",
            " Layer (type)                Output Shape                 Param #   Connected to                  \n",
            "==================================================================================================\n",
            " input_1 (InputLayer)        [(None, 28, 28, 1)]          0         []                            \n",
            "                                                                                                  \n",
            " conv2d (Conv2D)             (None, 28, 28, 64)           3200      ['input_1[0][0]']             \n",
            "                                                                                                  \n",
            " max_pooling2d (MaxPooling2  (None, 14, 14, 64)           0         ['conv2d[0][0]']              \n",
            " D)                                                                                               \n",
            "                                                                                                  \n",
            " conv2d_2 (Conv2D)           (None, 14, 14, 96)           6240      ['max_pooling2d[0][0]']       \n",
            "                                                                                                  \n",
            " conv2d_4 (Conv2D)           (None, 14, 14, 16)           1040      ['max_pooling2d[0][0]']       \n",
            "                                                                                                  \n",
            " max_pooling2d_1 (MaxPoolin  (None, 14, 14, 64)           0         ['max_pooling2d[0][0]']       \n",
            " g2D)                                                                                             \n",
            "                                                                                                  \n",
            " conv2d_1 (Conv2D)           (None, 14, 14, 64)           4160      ['max_pooling2d[0][0]']       \n",
            "                                                                                                  \n",
            " conv2d_3 (Conv2D)           (None, 14, 14, 128)          110720    ['conv2d_2[0][0]']            \n",
            "                                                                                                  \n",
            " conv2d_5 (Conv2D)           (None, 14, 14, 32)           12832     ['conv2d_4[0][0]']            \n",
            "                                                                                                  \n",
            " conv2d_6 (Conv2D)           (None, 14, 14, 32)           2080      ['max_pooling2d_1[0][0]']     \n",
            "                                                                                                  \n",
            " concatenate (Concatenate)   (None, 14, 14, 256)          0         ['conv2d_1[0][0]',            \n",
            "                                                                     'conv2d_3[0][0]',            \n",
            "                                                                     'conv2d_5[0][0]',            \n",
            "                                                                     'conv2d_6[0][0]']            \n",
            "                                                                                                  \n",
            " conv2d_8 (Conv2D)           (None, 14, 14, 128)          32896     ['concatenate[0][0]']         \n",
            "                                                                                                  \n",
            " conv2d_10 (Conv2D)          (None, 14, 14, 32)           8224      ['concatenate[0][0]']         \n",
            "                                                                                                  \n",
            " max_pooling2d_2 (MaxPoolin  (None, 14, 14, 256)          0         ['concatenate[0][0]']         \n",
            " g2D)                                                                                             \n",
            "                                                                                                  \n",
            " conv2d_7 (Conv2D)           (None, 14, 14, 128)          32896     ['concatenate[0][0]']         \n",
            "                                                                                                  \n",
            " conv2d_9 (Conv2D)           (None, 14, 14, 192)          221376    ['conv2d_8[0][0]']            \n",
            "                                                                                                  \n",
            " conv2d_11 (Conv2D)          (None, 14, 14, 96)           76896     ['conv2d_10[0][0]']           \n",
            "                                                                                                  \n",
            " conv2d_12 (Conv2D)          (None, 14, 14, 64)           16448     ['max_pooling2d_2[0][0]']     \n",
            "                                                                                                  \n",
            " concatenate_1 (Concatenate  (None, 14, 14, 480)          0         ['conv2d_7[0][0]',            \n",
            " )                                                                   'conv2d_9[0][0]',            \n",
            "                                                                     'conv2d_11[0][0]',           \n",
            "                                                                     'conv2d_12[0][0]']           \n",
            "                                                                                                  \n",
            " max_pooling2d_3 (MaxPoolin  (None, 7, 7, 480)            0         ['concatenate_1[0][0]']       \n",
            " g2D)                                                                                             \n",
            "                                                                                                  \n",
            " conv2d_14 (Conv2D)          (None, 7, 7, 96)             46176     ['max_pooling2d_3[0][0]']     \n",
            "                                                                                                  \n",
            " conv2d_16 (Conv2D)          (None, 7, 7, 16)             7696      ['max_pooling2d_3[0][0]']     \n",
            "                                                                                                  \n",
            " max_pooling2d_4 (MaxPoolin  (None, 7, 7, 480)            0         ['max_pooling2d_3[0][0]']     \n",
            " g2D)                                                                                             \n",
            "                                                                                                  \n",
            " conv2d_13 (Conv2D)          (None, 7, 7, 192)            92352     ['max_pooling2d_3[0][0]']     \n",
            "                                                                                                  \n",
            " conv2d_15 (Conv2D)          (None, 7, 7, 208)            179920    ['conv2d_14[0][0]']           \n",
            "                                                                                                  \n",
            " conv2d_17 (Conv2D)          (None, 7, 7, 48)             19248     ['conv2d_16[0][0]']           \n",
            "                                                                                                  \n",
            " conv2d_18 (Conv2D)          (None, 7, 7, 64)             30784     ['max_pooling2d_4[0][0]']     \n",
            "                                                                                                  \n",
            " concatenate_2 (Concatenate  (None, 7, 7, 512)            0         ['conv2d_13[0][0]',           \n",
            " )                                                                   'conv2d_15[0][0]',           \n",
            "                                                                     'conv2d_17[0][0]',           \n",
            "                                                                     'conv2d_18[0][0]']           \n",
            "                                                                                                  \n",
            " conv2d_20 (Conv2D)          (None, 7, 7, 112)            57456     ['concatenate_2[0][0]']       \n",
            "                                                                                                  \n",
            " conv2d_22 (Conv2D)          (None, 7, 7, 24)             12312     ['concatenate_2[0][0]']       \n",
            "                                                                                                  \n",
            " max_pooling2d_5 (MaxPoolin  (None, 7, 7, 512)            0         ['concatenate_2[0][0]']       \n",
            " g2D)                                                                                             \n",
            "                                                                                                  \n",
            " conv2d_19 (Conv2D)          (None, 7, 7, 160)            82080     ['concatenate_2[0][0]']       \n",
            "                                                                                                  \n",
            " conv2d_21 (Conv2D)          (None, 7, 7, 224)            226016    ['conv2d_20[0][0]']           \n",
            "                                                                                                  \n",
            " conv2d_23 (Conv2D)          (None, 7, 7, 64)             38464     ['conv2d_22[0][0]']           \n",
            "                                                                                                  \n",
            " conv2d_24 (Conv2D)          (None, 7, 7, 64)             32832     ['max_pooling2d_5[0][0]']     \n",
            "                                                                                                  \n",
            " concatenate_3 (Concatenate  (None, 7, 7, 512)            0         ['conv2d_19[0][0]',           \n",
            " )                                                                   'conv2d_21[0][0]',           \n",
            "                                                                     'conv2d_23[0][0]',           \n",
            "                                                                     'conv2d_24[0][0]']           \n",
            "                                                                                                  \n",
            " flatten (Flatten)           (None, 25088)                0         ['concatenate_3[0][0]']       \n",
            "                                                                                                  \n",
            " dense (Dense)               (None, 128)                  3211392   ['flatten[0][0]']             \n",
            "                                                                                                  \n",
            " dense_1 (Dense)             (None, 10)                   1290      ['dense[0][0]']               \n",
            "                                                                                                  \n",
            "==================================================================================================\n",
            "Total params: 4567026 (17.42 MB)\n",
            "Trainable params: 4567026 (17.42 MB)\n",
            "Non-trainable params: 0 (0.00 Byte)\n",
            "__________________________________________________________________________________________________\n"
          ]
        }
      ]
    },
    {
      "cell_type": "code",
      "source": [
        "# Define early stopping callback\n",
        "early_stop = EarlyStopping(monitor='val_loss', patience=15, restore_best_weights=True)\n",
        "\n",
        "# Train the model with early stopping\n",
        "history = model.fit(x_train.reshape(-1, 28, 28, 1), y_train, epochs=20, batch_size=128,\n",
        "                    validation_data=(x_test.reshape(-1, 28, 28, 1), y_test),\n",
        "                    callbacks=[early_stop])"
      ],
      "metadata": {
        "colab": {
          "base_uri": "https://localhost:8080/"
        },
        "id": "vqPgDJbfIOmK",
        "outputId": "dbd607d1-36e7-40e1-bf1a-8882a660993a"
      },
      "execution_count": 7,
      "outputs": [
        {
          "output_type": "stream",
          "name": "stdout",
          "text": [
            "Epoch 1/20\n",
            "469/469 [==============================] - 42s 57ms/step - loss: 0.1598 - accuracy: 0.9487 - val_loss: 0.0346 - val_accuracy: 0.9878\n",
            "Epoch 2/20\n",
            "469/469 [==============================] - 23s 49ms/step - loss: 0.0415 - accuracy: 0.9873 - val_loss: 0.0344 - val_accuracy: 0.9890\n",
            "Epoch 3/20\n",
            "469/469 [==============================] - 24s 50ms/step - loss: 0.0297 - accuracy: 0.9905 - val_loss: 0.0253 - val_accuracy: 0.9914\n",
            "Epoch 4/20\n",
            "469/469 [==============================] - 23s 49ms/step - loss: 0.0225 - accuracy: 0.9934 - val_loss: 0.0279 - val_accuracy: 0.9914\n",
            "Epoch 5/20\n",
            "469/469 [==============================] - 23s 49ms/step - loss: 0.0220 - accuracy: 0.9930 - val_loss: 0.0308 - val_accuracy: 0.9902\n",
            "Epoch 6/20\n",
            "469/469 [==============================] - 23s 49ms/step - loss: 0.0170 - accuracy: 0.9944 - val_loss: 0.0265 - val_accuracy: 0.9915\n",
            "Epoch 7/20\n",
            "469/469 [==============================] - 23s 49ms/step - loss: 0.0164 - accuracy: 0.9946 - val_loss: 0.0272 - val_accuracy: 0.9909\n",
            "Epoch 8/20\n",
            "469/469 [==============================] - 23s 49ms/step - loss: 0.0125 - accuracy: 0.9962 - val_loss: 0.0220 - val_accuracy: 0.9939\n",
            "Epoch 9/20\n",
            "469/469 [==============================] - 23s 49ms/step - loss: 0.0120 - accuracy: 0.9959 - val_loss: 0.0301 - val_accuracy: 0.9919\n",
            "Epoch 10/20\n",
            "469/469 [==============================] - 23s 49ms/step - loss: 0.0114 - accuracy: 0.9962 - val_loss: 0.0337 - val_accuracy: 0.9913\n",
            "Epoch 11/20\n",
            "469/469 [==============================] - 23s 49ms/step - loss: 0.0108 - accuracy: 0.9964 - val_loss: 0.0272 - val_accuracy: 0.9927\n",
            "Epoch 12/20\n",
            "469/469 [==============================] - 23s 49ms/step - loss: 0.0104 - accuracy: 0.9968 - val_loss: 0.0290 - val_accuracy: 0.9931\n",
            "Epoch 13/20\n",
            "469/469 [==============================] - 23s 49ms/step - loss: 0.0090 - accuracy: 0.9972 - val_loss: 0.0274 - val_accuracy: 0.9912\n",
            "Epoch 14/20\n",
            "469/469 [==============================] - 23s 48ms/step - loss: 0.0080 - accuracy: 0.9976 - val_loss: 0.0241 - val_accuracy: 0.9940\n",
            "Epoch 15/20\n",
            "469/469 [==============================] - 23s 49ms/step - loss: 0.0079 - accuracy: 0.9974 - val_loss: 0.0237 - val_accuracy: 0.9946\n",
            "Epoch 16/20\n",
            "469/469 [==============================] - 23s 49ms/step - loss: 0.0074 - accuracy: 0.9977 - val_loss: 0.0275 - val_accuracy: 0.9927\n",
            "Epoch 17/20\n",
            "469/469 [==============================] - 23s 49ms/step - loss: 0.0082 - accuracy: 0.9974 - val_loss: 0.0279 - val_accuracy: 0.9916\n",
            "Epoch 18/20\n",
            "469/469 [==============================] - 23s 48ms/step - loss: 0.0065 - accuracy: 0.9980 - val_loss: 0.0233 - val_accuracy: 0.9934\n",
            "Epoch 19/20\n",
            "469/469 [==============================] - 23s 48ms/step - loss: 0.0072 - accuracy: 0.9979 - val_loss: 0.0437 - val_accuracy: 0.9899\n",
            "Epoch 20/20\n",
            "469/469 [==============================] - 23s 48ms/step - loss: 0.0060 - accuracy: 0.9979 - val_loss: 0.0323 - val_accuracy: 0.9934\n"
          ]
        }
      ]
    },
    {
      "cell_type": "code",
      "source": [
        "# Evaluate the model\n",
        "test_loss, test_acc = model.evaluate(x_test.reshape(-1, 28, 28, 1), y_test)\n",
        "print(f'Test accuracy: {test_acc:.4f}')"
      ],
      "metadata": {
        "colab": {
          "base_uri": "https://localhost:8080/"
        },
        "id": "c2Ns_vE0IQNR",
        "outputId": "b0fafdd2-7688-4a0a-cde2-e1fd731e1923"
      },
      "execution_count": 8,
      "outputs": [
        {
          "output_type": "stream",
          "name": "stdout",
          "text": [
            "313/313 [==============================] - 3s 7ms/step - loss: 0.0323 - accuracy: 0.9934\n",
            "Test accuracy: 0.9934\n"
          ]
        }
      ]
    }
  ]
}